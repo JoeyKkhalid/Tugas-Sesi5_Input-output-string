{
 "cells": [
  {
   "cell_type": "code",
   "execution_count": null,
   "id": "067e1bc4",
   "metadata": {},
   "outputs": [],
   "source": [
    "#tugas PD sesi 5 \n",
    "#1. Buatlah biodata sederhana dengan menggunakan fungsi input(), dan output variabel dengan fungsi format(). \n",
    "\n",
    "#deklarasi variabel dan input\n",
    "#variabel nama\n",
    "nama=input(\"masukan nama :\")\n",
    "#variabel kelas\n",
    "kelas=input(\"masukan kelas :\")\n",
    "#variabel prodi (program studi)\n",
    "prodi=input(\"masukan prodi :\")\n",
    "#variabel umurr\n",
    "umur=input(\"masukan umur :\")\n",
    "#variabel hobi\n",
    "hobi=input(\"masukan hobi :\")\n",
    "\n",
    "#membuat output dengan fungsi .format()\n",
    "print(\"Halo, perkenalkan nama saya {},kelas {},program studi {}. saat ini saya berumur {} dan hobi saya adalah {} \".format(nama,kelas,prodi,umur,hobi))"
   ]
  }
 ],
 "metadata": {
  "kernelspec": {
   "display_name": "Python 3 (ipykernel)",
   "language": "python",
   "name": "python3"
  },
  "language_info": {
   "codemirror_mode": {
    "name": "ipython",
    "version": 3
   },
   "file_extension": ".py",
   "mimetype": "text/x-python",
   "name": "python",
   "nbconvert_exporter": "python",
   "pygments_lexer": "ipython3",
   "version": "3.9.12"
  }
 },
 "nbformat": 4,
 "nbformat_minor": 5
}
